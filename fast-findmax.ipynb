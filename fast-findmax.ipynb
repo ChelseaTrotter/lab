{
 "cells": [
  {
   "cell_type": "markdown",
   "metadata": {},
   "source": [
    "# Which findmax implementation is the fastest? \n",
    "\n",
    "Julia has its own findmax function. However during the testing it seems a bit slow. So this notebook is tries to find the fastest implementation. \n",
    "\n",
    "I am using JULIA_NUM_THREADS=16 to see if multithreading can help speeding it up. "
   ]
  },
  {
   "cell_type": "code",
   "execution_count": 2,
   "metadata": {},
   "outputs": [],
   "source": [
    "using Base.Threads "
   ]
  },
  {
   "cell_type": "code",
   "execution_count": 3,
   "metadata": {},
   "outputs": [
    {
     "data": {
      "text/plain": [
       "findmax_v1 (generic function with 1 method)"
      ]
     },
     "execution_count": 3,
     "metadata": {},
     "output_type": "execute_result"
    }
   ],
   "source": [
    "# This function uses purely julia findmax. It does not take advantage of multithreading.\n",
    "function findmax_v1(lod::AbstractArray{<:Real,2}, dims::Int)\n",
    "    res = findmax(lod, dims=dims)\n",
    "    # get the first element, which is the max of the first dimension, and turn it into a column\n",
    "    max = res[1]\n",
    "    # get the second element, which is the cartisian index, and only get the first index of the tuple(cartisian index), and turn it into column\n",
    "    maxidx = getindex.(res[2], 2)\n",
    "    return hcat(maxidx, max)\n",
    "end\n"
   ]
  },
  {
   "cell_type": "code",
   "execution_count": 4,
   "metadata": {},
   "outputs": [
    {
     "data": {
      "text/plain": [
       "findmax_v2 (generic function with 1 method)"
      ]
     },
     "execution_count": 4,
     "metadata": {},
     "output_type": "execute_result"
    }
   ],
   "source": [
    "# This function uses fused approach. Multhreading implemented at top level. \n",
    "function findmax_v2(lod::AbstractArray{<:Real,2}, dims::Int)\n",
    "    max_array = Array{typeof(lod[1,1]),2}(undef, size(lod, dims), 2)\n",
    "    Threads.@threads for i in 1:size(lod, dims)\n",
    "        if dims == 1 \n",
    "            (max, index) = findmax(lod[:, i])\n",
    "        elseif dims == 2\n",
    "            (max, index) = findmax(lod[i, :])\n",
    "        else \n",
    "            error(\"dims must be 1 or 2\")\n",
    "        end\n",
    "        max_array[i,1] = convert(typeof(lod[1,1]), index)\n",
    "        max_array[i,2] = max\n",
    "    end\n",
    "end"
   ]
  },
  {
   "cell_type": "code",
   "execution_count": 5,
   "metadata": {},
   "outputs": [
    {
     "data": {
      "text/plain": [
       "findmax_v3 (generic function with 1 method)"
      ]
     },
     "execution_count": 5,
     "metadata": {},
     "output_type": "execute_result"
    }
   ],
   "source": [
    "# This function is purely hand written, a good old nested for loop. It only findmax across dim=2\n",
    "function findmax_v3(lod::AbstractArray{<:Real,2})\n",
    "    max_array = Array{typeof(lod[1,1]),2}(undef, size(lod)[1], 2)\n",
    "    Threads.@threads for i in 1:size(lod)[1]\n",
    "        # for i in 1:size(lod)[1]\n",
    "        temp = lod[i, 1]\n",
    "        idx = 1\n",
    "        for j in 2:size(lod)[2]\n",
    "            if temp < lod[i,j]\n",
    "                temp = lod[i,j]\n",
    "                idx = j\n",
    "            end\n",
    "        end\n",
    "        max_array[i,1] = idx\n",
    "        max_array[i,2] = temp\n",
    "    end\n",
    "    return max_array\n",
    "end"
   ]
  },
  {
   "cell_type": "code",
   "execution_count": 34,
   "metadata": {},
   "outputs": [],
   "source": [
    "a = rand(20000, 10000);"
   ]
  },
  {
   "cell_type": "code",
   "execution_count": 39,
   "metadata": {},
   "outputs": [
    {
     "name": "stdout",
     "output_type": "stream",
     "text": [
      "  0.890251 seconds (13 allocations: 937.906 KiB)\n",
      "  0.179299 seconds (20.20 k allocations: 763.876 MiB)\n",
      "  0.099519 seconds (196 allocations: 333.609 KiB)\n"
     ]
    }
   ],
   "source": [
    "@time v1 = findmax_v1(a,2)\n",
    "@time v2 = findmax_v2(a,2)\n",
    "@time v3 = findmax_v3(a);"
   ]
  },
  {
   "cell_type": "code",
   "execution_count": 37,
   "metadata": {},
   "outputs": [
    {
     "data": {
      "text/plain": [
       "17"
      ]
     },
     "execution_count": 37,
     "metadata": {},
     "output_type": "execute_result"
    }
   ],
   "source": [
    "using Distributed\n",
    "using SharedArrays\n",
    "# addprocs(16)\n",
    "res = SharedArray{Float64}(size(a,1), 2)\n",
    "@everywhere using Distributed   \n",
    "nprocs()"
   ]
  },
  {
   "cell_type": "code",
   "execution_count": 40,
   "metadata": {},
   "outputs": [
    {
     "name": "stdout",
     "output_type": "stream",
     "text": [
      "distributed takes 0.656867482 seconds\n"
     ]
    }
   ],
   "source": [
    "s = time_ns()\n",
    "@sync @distributed for row = 1:size(a,1)\n",
    "    res[row,1] = findmax(a[row, :])[2]# Index\n",
    "    res[row,2] = findmax(a[row, :])[1]# Max\n",
    "end\n",
    "e = time_ns()\n",
    "println(\"distributed takes $((e-s)*0.000000001) seconds\")"
   ]
  },
  {
   "cell_type": "code",
   "execution_count": 28,
   "metadata": {},
   "outputs": [
    {
     "data": {
      "text/plain": [
       "10000×2 SharedArray{Float64,2}:\n",
       " 7096.0  0.999984\n",
       "  632.0  0.999862\n",
       " 4020.0  0.99978\n",
       " 7533.0  0.999974\n",
       " 8254.0  0.99984\n",
       " 7085.0  0.999555\n",
       " 4669.0  0.999912\n",
       " 2967.0  0.999976\n",
       " 9637.0  0.999906\n",
       " 1118.0  0.999717\n",
       " 4106.0  0.999408\n",
       " 2865.0  0.999976\n",
       " 8906.0  0.999803\n",
       "    ⋮    \n",
       " 7991.0  0.999848\n",
       " 2624.0  0.999709\n",
       " 7006.0  0.999985\n",
       " 3026.0  0.999982\n",
       " 5001.0  0.999988\n",
       " 8674.0  0.999993\n",
       " 2178.0  0.999991\n",
       " 5425.0  0.999738\n",
       " 9324.0  0.999971\n",
       " 8314.0  0.999955\n",
       " 7622.0  0.99975\n",
       " 3042.0  0.999859"
      ]
     },
     "execution_count": 28,
     "metadata": {},
     "output_type": "execute_result"
    }
   ],
   "source": [
    "res"
   ]
  },
  {
   "cell_type": "code",
   "execution_count": 22,
   "metadata": {},
   "outputs": [
    {
     "data": {
      "text/plain": [
       "1"
      ]
     },
     "execution_count": 22,
     "metadata": {},
     "output_type": "execute_result"
    }
   ],
   "source": [
    "nprocs()"
   ]
  },
  {
   "cell_type": "code",
   "execution_count": null,
   "metadata": {},
   "outputs": [],
   "source": []
  }
 ],
 "metadata": {
  "kernelspec": {
   "display_name": "Julia (16 threads) 1.5.3",
   "language": "julia",
   "name": "julia-(16-threads)-1.5"
  },
  "language_info": {
   "file_extension": ".jl",
   "mimetype": "application/julia",
   "name": "julia",
   "version": "1.5.3"
  }
 },
 "nbformat": 4,
 "nbformat_minor": 4
}
