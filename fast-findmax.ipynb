{
 "cells": [
  {
   "cell_type": "markdown",
   "metadata": {},
   "source": [
    "# Which findmax implementation is the fastest? \n",
    "\n",
    "Julia has its own findmax function. However during the testing it seems a bit slow. So this notebook is tries to find the fastest implementation. \n",
    "\n",
    "I am using JULIA_NUM_THREADS=16 to see if multithreading can help speeding it up. "
   ]
  },
  {
   "cell_type": "code",
   "execution_count": 15,
   "metadata": {},
   "outputs": [],
   "source": [
    "using Base.Threads "
   ]
  },
  {
   "cell_type": "code",
   "execution_count": 16,
   "metadata": {},
   "outputs": [
    {
     "data": {
      "text/plain": [
       "findmax_v1 (generic function with 1 method)"
      ]
     },
     "execution_count": 16,
     "metadata": {},
     "output_type": "execute_result"
    }
   ],
   "source": [
    "# This function uses purely julia findmax. It does not take advantage of multithreading.\n",
    "function findmax_v1(lod::AbstractArray{<:Real,2}, dims::Int)\n",
    "    res = findmax(lod, dims=dims)\n",
    "    # get the first element, which is the max of the first dimension, and turn it into a column\n",
    "    max = res[1]\n",
    "    # get the second element, which is the cartisian index, and only get the first index of the tuple(cartisian index), and turn it into column\n",
    "    maxidx = getindex.(res[2], 2)\n",
    "    return hcat(maxidx, max)\n",
    "end\n"
   ]
  },
  {
   "cell_type": "code",
   "execution_count": 42,
   "metadata": {},
   "outputs": [
    {
     "data": {
      "text/plain": [
       "findmax_v2 (generic function with 1 method)"
      ]
     },
     "execution_count": 42,
     "metadata": {},
     "output_type": "execute_result"
    }
   ],
   "source": [
    "# This function uses fused approach. Multhreading implemented at top level. \n",
    "function findmax_v2(lod::AbstractArray{<:Real,2}, dims::Int)\n",
    "    arraydim = 0 \n",
    "    if dims == 1\n",
    "        arraydim = 2\n",
    "    else\n",
    "        arraydim = 1\n",
    "    end\n",
    "    max_array = Array{typeof(lod[1,1]),2}(undef, size(lod, arraydim), 2)\n",
    "    Threads.@threads for i in 1:size(lod, arraydim)\n",
    "        if dims == 1 \n",
    "            (max, index) = findmax(lod[:, i])\n",
    "        elseif dims == 2\n",
    "            (max, index) = findmax(lod[i, :])\n",
    "        else \n",
    "            error(\"dims must be 1 or 2\")\n",
    "        end\n",
    "        max_array[i,1] = convert(typeof(lod[1,1]), index)\n",
    "        max_array[i,2] = max\n",
    "    end\n",
    "end"
   ]
  },
  {
   "cell_type": "code",
   "execution_count": 18,
   "metadata": {},
   "outputs": [
    {
     "data": {
      "text/plain": [
       "findmax_v3 (generic function with 1 method)"
      ]
     },
     "execution_count": 18,
     "metadata": {},
     "output_type": "execute_result"
    }
   ],
   "source": [
    "# This function is purely hand written, a good old nested for loop. It only findmax across dim=2\n",
    "function findmax_v3(lod::AbstractArray{<:Real,2})\n",
    "    max_array = Array{typeof(lod[1,1]),2}(undef, size(lod)[1], 2)\n",
    "    Threads.@threads for i in 1:size(lod)[1]\n",
    "        # for i in 1:size(lod)[1]\n",
    "        temp = lod[i, 1]\n",
    "        idx = 1\n",
    "        for j in 2:size(lod)[2]\n",
    "            if temp < lod[i,j]\n",
    "                temp = lod[i,j]\n",
    "                idx = j\n",
    "            end\n",
    "        end\n",
    "        max_array[i,1] = idx\n",
    "        max_array[i,2] = temp\n",
    "    end\n",
    "    return max_array\n",
    "end"
   ]
  },
  {
   "cell_type": "code",
   "execution_count": 19,
   "metadata": {},
   "outputs": [],
   "source": [
    "a = rand(20000, 10000);"
   ]
  },
  {
   "cell_type": "code",
   "execution_count": 55,
   "metadata": {},
   "outputs": [
    {
     "name": "stdout",
     "output_type": "stream",
     "text": [
      "  0.895861 seconds (13 allocations: 937.906 KiB)\n",
      "  0.410285 seconds (40.20 k allocations: 1.492 GiB)\n",
      "  0.125187 seconds (198 allocations: 333.672 KiB)\n"
     ]
    }
   ],
   "source": [
    "@time v1 = findmax_v1(a,2)\n",
    "@time v2 = findmax_v2(a,2)\n",
    "@time v3 = findmax_v3(a);"
   ]
  },
  {
   "cell_type": "markdown",
   "metadata": {},
   "source": [
    "### findmax_v4 \n",
    "this version uses Distributed package rather than Threads. It is equivalent to findmax_v2, only difference is findmax_v2 uses Threads.@threads"
   ]
  },
  {
   "cell_type": "code",
   "execution_count": 57,
   "metadata": {},
   "outputs": [
    {
     "data": {
      "text/plain": [
       "17"
      ]
     },
     "execution_count": 57,
     "metadata": {},
     "output_type": "execute_result"
    }
   ],
   "source": [
    "using Distributed\n",
    "using SharedArrays\n",
    "# addprocs(16)\n",
    "res = SharedArray{Float64}(size(a,1), 2)\n",
    "@everywhere using Distributed   \n",
    "nprocs()"
   ]
  },
  {
   "cell_type": "code",
   "execution_count": 59,
   "metadata": {},
   "outputs": [
    {
     "name": "stdout",
     "output_type": "stream",
     "text": [
      "distributed takes 0.729388303 seconds\n"
     ]
    }
   ],
   "source": [
    "s = time_ns()\n",
    "@sync @distributed for row = 1:size(a,1)\n",
    "    res[row,1] = findmax(a[row, :])[2]# Index\n",
    "    res[row,2] = findmax(a[row, :])[1]# Max\n",
    "end\n",
    "e = time_ns()\n",
    "println(\"distributed takes $((e-s)*0.000000001) seconds\")"
   ]
  },
  {
   "cell_type": "markdown",
   "metadata": {},
   "source": [
    "# comparing speed across rows ( column major access)\n",
    "This compares @threads and @distributed on row major access.( memory access pattern is inefficient since Julia is using column major). "
   ]
  },
  {
   "cell_type": "code",
   "execution_count": 60,
   "metadata": {},
   "outputs": [
    {
     "name": "stdout",
     "output_type": "stream",
     "text": [
      "distributed takes 0.33528427 seconds\n"
     ]
    }
   ],
   "source": [
    "res = SharedArray{Float64}(size(a,2), 2)\n",
    "@everywhere using Distributed   \n",
    "nprocs()\n",
    "s = time_ns()\n",
    "@sync @distributed for col = 1:size(a,2)\n",
    "    res[col,1] = findmax(a[:, col])[2]# Index\n",
    "    res[col,2] = findmax(a[:, col])[1]# Max\n",
    "end\n",
    "e = time_ns()\n",
    "println(\"distributed takes $((e-s)*0.000000001) seconds\")"
   ]
  },
  {
   "cell_type": "code",
   "execution_count": 61,
   "metadata": {},
   "outputs": [
    {
     "name": "stdout",
     "output_type": "stream",
     "text": [
      "  0.828353 seconds (8 allocations: 469.062 KiB)\n",
      "  0.270993 seconds (20.20 k allocations: 1.491 GiB)\n"
     ]
    }
   ],
   "source": [
    "@time v1 = findmax_v1(a,1)\n",
    "@time v2 = findmax_v2(a,1)"
   ]
  },
  {
   "cell_type": "markdown",
   "metadata": {},
   "source": [
    "# Conclusion:\n",
    "\n",
    "The conclusion is the the hand written nested for loop wins when using 16 threads. \n"
   ]
  },
  {
   "cell_type": "code",
   "execution_count": null,
   "metadata": {},
   "outputs": [],
   "source": []
  }
 ],
 "metadata": {
  "kernelspec": {
   "display_name": "Julia (16 threads) 1.5.3",
   "language": "julia",
   "name": "julia-(16-threads)-1.5"
  },
  "language_info": {
   "file_extension": ".jl",
   "mimetype": "application/julia",
   "name": "julia",
   "version": "1.5.3"
  }
 },
 "nbformat": 4,
 "nbformat_minor": 4
}
